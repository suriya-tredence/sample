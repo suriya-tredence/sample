{
 "cells": [
  {
   "cell_type": "code",
   "execution_count": 2,
   "id": "5974db8a",
   "metadata": {},
   "outputs": [
    {
     "name": "stdout",
     "output_type": "stream",
     "text": [
      "Enter the starting date: 28-03-2000\n",
      "Enter the days to be added: 22\n",
      "['29-03-2000', '30-03-2000', '31-03-2000', '01-04-2000', '02-04-2000', '03-04-2000', '04-04-2000', '05-04-2000', '06-04-2000', '07-04-2000', '08-04-2000', '09-04-2000', '10-04-2000', '11-04-2000', '12-04-2000', '13-04-2000', '14-04-2000', '15-04-2000', '16-04-2000', '17-04-2000', '18-04-2000', '19-04-2000']\n"
     ]
    }
   ],
   "source": [
    "from datetime import datetime as dt\n",
    "from datetime import timedelta\n",
    "\n",
    "def fetch_dates(start_date, total_days):\n",
    "    total_dates = []\n",
    "    for day in range(1, total_days+1):\n",
    "        date = dt.strptime(start_date, '%d-%m-%Y') + timedelta(days=day)\n",
    "        total_dates.append(date.strftime('%d-%m-%Y'))\n",
    "        \n",
    "    return total_dates\n",
    "\n",
    "date = input(\"Enter the starting date: \")\n",
    "total_days = int(input(\"Enter the days to be added: \"))\n",
    "total_dates = fetch_dates(date, total_days)\n",
    "print(total_dates)\n"
   ]
  },
  {
   "cell_type": "code",
   "execution_count": null,
   "id": "f8c501db",
   "metadata": {},
   "outputs": [],
   "source": []
  }
 ],
 "metadata": {
  "kernelspec": {
   "display_name": "Python 3 (ipykernel)",
   "language": "python",
   "name": "python3"
  },
  "language_info": {
   "codemirror_mode": {
    "name": "ipython",
    "version": 3
   },
   "file_extension": ".py",
   "mimetype": "text/x-python",
   "name": "python",
   "nbconvert_exporter": "python",
   "pygments_lexer": "ipython3",
   "version": "3.10.9"
  }
 },
 "nbformat": 4,
 "nbformat_minor": 5
}
